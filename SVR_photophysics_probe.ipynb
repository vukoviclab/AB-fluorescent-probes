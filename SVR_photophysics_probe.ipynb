{
  "nbformat": 4,
  "nbformat_minor": 0,
  "metadata": {
    "colab": {
      "provenance": []
    },
    "kernelspec": {
      "name": "python3",
      "display_name": "Python 3"
    },
    "language_info": {
      "name": "python"
    }
  },
  "cells": [
    {
      "cell_type": "code",
      "execution_count": 1,
      "metadata": {
        "colab": {
          "base_uri": "https://localhost:8080/"
        },
        "id": "74fIMoAsPWR2",
        "outputId": "3e91bed9-c7b1-432b-dbf7-3851b3f838ce"
      },
      "outputs": [
        {
          "output_type": "stream",
          "name": "stdout",
          "text": [
            "Collecting rdkit-pypi\n",
            "  Downloading rdkit_pypi-2022.9.5-cp310-cp310-manylinux_2_17_x86_64.manylinux2014_x86_64.whl (29.4 MB)\n",
            "\u001b[2K     \u001b[90m━━━━━━━━━━━━━━━━━━━━━━━━━━━━━━━━━━━━━━━━\u001b[0m \u001b[32m29.4/29.4 MB\u001b[0m \u001b[31m34.8 MB/s\u001b[0m eta \u001b[36m0:00:00\u001b[0m\n",
            "\u001b[?25hRequirement already satisfied: numpy in /usr/local/lib/python3.10/dist-packages (from rdkit-pypi) (1.25.2)\n",
            "Requirement already satisfied: Pillow in /usr/local/lib/python3.10/dist-packages (from rdkit-pypi) (9.4.0)\n",
            "Installing collected packages: rdkit-pypi\n",
            "Successfully installed rdkit-pypi-2022.9.5\n"
          ]
        }
      ],
      "source": [
        "!pip install rdkit-pypi"
      ]
    },
    {
      "cell_type": "code",
      "source": [
        "from rdkit import Chem\n",
        "from rdkit.Chem import AllChem\n",
        "from sklearn.model_selection import train_test_split\n",
        "from sklearn.metrics import accuracy_score, f1_score, confusion_matrix\n",
        "import matplotlib.pyplot as plt\n",
        "import seaborn as sns\n",
        "import pandas as pd\n",
        "from sklearn.svm import SVR\n",
        "import numpy as np\n",
        "from sklearn.metrics import mean_squared_error\n",
        "from sklearn.metrics import r2_score\n",
        "from sklearn.decomposition import PCA\n",
        "from rdkit.Chem import Descriptors\n",
        "from sklearn.preprocessing import MinMaxScaler\n",
        "from rdkit.Chem import rdMolDescriptors\n"
      ],
      "metadata": {
        "id": "nj_snqLLPzK4"
      },
      "execution_count": 33,
      "outputs": []
    },
    {
      "cell_type": "code",
      "source": [
        "df = pd.read_csv('INPUT-ML-Gaby.csv')\n",
        "smiles_list = df[\"Smiles\"]\n",
        "name = df[\"Cmpd Label\"]\n",
        "# Print the entire DataFrame\n",
        "print(df)"
      ],
      "metadata": {
        "id": "0nvcwxaPQmRb",
        "colab": {
          "base_uri": "https://localhost:8080/"
        },
        "outputId": "5193cecf-59b1-48c5-f4f4-de9df3a0c15b"
      },
      "execution_count": 9,
      "outputs": [
        {
          "output_type": "stream",
          "name": "stdout",
          "text": [
            "    Cmpd Label                                             Smiles  Energy(eV)\n",
            "0          1ia            N#CC(=C(C)c1ccc(cc1)c1ccc(N(C)C)cc1)C#N      3.2508\n",
            "1          1id                       c1cc(ccc1N(C)C)c1ccc(cc1)C#N      3.9102\n",
            "2          1ir                 N(c1ccc(c2ccc(C(=O)OC)cc2)cc1)(C)C      3.9642\n",
            "3          1is                 N(c1ccc(c2ccc(cc2)N(=O)=O)cc1)(C)C      3.4472\n",
            "4         1iid                  N(c1ccc(c2ccc(cc2)C#N)cc1)(CCF)CC      3.9125\n",
            "..         ...                                                ...         ...\n",
            "319      2iiin     c1(cc2c(cc1)cc(cc2)N(CCO)CC)c1cc(oc(=O)c1C#N)C      3.1728\n",
            "320       2ivc  c1(cc2c(cc1)cc(cc2)N(CCF)C)c1ccc(cn1)C(=C(C#N)...      3.1279\n",
            "321       2ivk                c1(cc2c(cc1)cc(cc2)N(CCF)C)c1ncccn1      4.0412\n",
            "322       2ivn      c1(cc2c(cc1)cc(cc2)N(CCF)C)c1cc(oc(=O)c1C#N)C      3.2507\n",
            "323       2iic  c1(cc2c(cc1)cc(cc2)N(CC)CCF)c1ccc(cn1)C(=C(C#N...      3.1129\n",
            "\n",
            "[324 rows x 3 columns]\n"
          ]
        }
      ]
    },
    {
      "cell_type": "markdown",
      "source": [
        "# Morgan"
      ],
      "metadata": {
        "id": "K6gwFS-gE5UA"
      }
    },
    {
      "cell_type": "code",
      "source": [
        "mols = [Chem.MolFromSmiles(smiles) for smiles in smiles_list]\n",
        "Morgan_fingerprints = [AllChem.GetMorganFingerprintAsBitVect(mol, 2) for mol in mols]\n",
        "len(mols)"
      ],
      "metadata": {
        "colab": {
          "base_uri": "https://localhost:8080/"
        },
        "id": "fkQTosktE8Z5",
        "outputId": "a1c240e7-a551-4b26-a183-88d5e04fbe3c"
      },
      "execution_count": 10,
      "outputs": [
        {
          "output_type": "execute_result",
          "data": {
            "text/plain": [
              "324"
            ]
          },
          "metadata": {},
          "execution_count": 10
        }
      ]
    },
    {
      "cell_type": "code",
      "source": [
        "Abs_energies = df[\"Energy(eV)\"]\n",
        "\n",
        "print(Abs_energies)\n",
        "features = np.column_stack((Morgan_fingerprints, Abs_energies))\n",
        "\n",
        "# Convert the RDKit fingerprint objects to NumPy arrays\n",
        "fingerprints_array = [list(fp) for fp in Morgan_fingerprints]"
      ],
      "metadata": {
        "colab": {
          "base_uri": "https://localhost:8080/"
        },
        "id": "ETu6UFv4F9bW",
        "outputId": "eea008b1-1b10-4e62-cc5c-51814b77f44b"
      },
      "execution_count": 13,
      "outputs": [
        {
          "output_type": "stream",
          "name": "stdout",
          "text": [
            "0      3.2508\n",
            "1      3.9102\n",
            "2      3.9642\n",
            "3      3.4472\n",
            "4      3.9125\n",
            "        ...  \n",
            "319    3.1728\n",
            "320    3.1279\n",
            "321    4.0412\n",
            "322    3.2507\n",
            "323    3.1129\n",
            "Name: Energy(eV), Length: 324, dtype: float64\n"
          ]
        }
      ]
    },
    {
      "cell_type": "code",
      "source": [
        "#fitting SVR rbf kernel to dataset\n",
        "\n",
        "with open('out-SVR-Morgan-rbf.txt', 'w') as f:\n",
        "  for i in np.arange(0,200):\n",
        "    #splitting dataset into train and test data\n",
        "    x_train, x_test, y_train, y_test = train_test_split(fingerprints_array, Abs_energies, test_size=0.20, random_state = i)\n",
        "    regressor = SVR(kernel='rbf')\n",
        "    regressor.fit(x_train, y_train)\n",
        "  # Evaluate the model on the testing dataset\n",
        "    y_pred = regressor.predict(x_test)\n",
        "    mean_squared_error(y_test, y_pred)\n",
        "    r2_score_value = r2_score(y_test, y_pred)\n",
        "\n",
        "    print(r2_score_value, file=f)\n"
      ],
      "metadata": {
        "id": "92AnbCPoGKoY"
      },
      "execution_count": 14,
      "outputs": []
    },
    {
      "cell_type": "code",
      "source": [
        "#fitting SVR linear kernel to dataset\n",
        "\n",
        "with open('out-SVR-Morgan-linear.txt', 'w') as f:\n",
        "  for i in np.arange(0,200):\n",
        "    #splitting dataset into train and test data\n",
        "    x_train, x_test, y_train, y_test = train_test_split(fingerprints_array, Abs_energies, test_size=0.20, random_state = i)\n",
        "    regressor = SVR(kernel='linear')\n",
        "    regressor.fit(x_train, y_train)\n",
        "  # Evaluate the model on the testing dataset\n",
        "    y_pred = regressor.predict(x_test)\n",
        "    mean_squared_error(y_test, y_pred)\n",
        "    r2_score_value = r2_score(y_test, y_pred)\n",
        "\n",
        "    print(r2_score_value, file=f)"
      ],
      "metadata": {
        "id": "fgmrI3VeIHFX"
      },
      "execution_count": 17,
      "outputs": []
    },
    {
      "cell_type": "markdown",
      "source": [
        "# MACCS"
      ],
      "metadata": {
        "id": "Wp4uhdpuHiJV"
      }
    },
    {
      "cell_type": "code",
      "source": [
        "from rdkit.Chem import MACCSkeys\n",
        "\n",
        "mols = [Chem.MolFromSmiles(smiles) for smiles in smiles_list]\n",
        "maccs_fingerprints = [MACCSkeys.GenMACCSKeys(mol) for mol in mols]"
      ],
      "metadata": {
        "id": "Q6kdOPTRHncR"
      },
      "execution_count": 58,
      "outputs": []
    },
    {
      "cell_type": "code",
      "source": [
        "Abs_energies = df[\"Energy(eV)\"]\n",
        "\n",
        "print(Abs_energies)\n",
        "features = np.column_stack((maccs_fingerprints, Abs_energies))\n",
        "\n",
        "# Convert the RDKit fingerprint objects to NumPy arrays\n",
        "maccs_fingerprints_array = np.array([list(fp) for fp in maccs_fingerprints])"
      ],
      "metadata": {
        "id": "4niLExDgSYDD",
        "colab": {
          "base_uri": "https://localhost:8080/"
        },
        "outputId": "0db06e1a-6eef-4efa-c7df-7e324b109b53"
      },
      "execution_count": 59,
      "outputs": [
        {
          "output_type": "stream",
          "name": "stdout",
          "text": [
            "0      3.2508\n",
            "1      3.9102\n",
            "2      3.9642\n",
            "3      3.4472\n",
            "4      3.9125\n",
            "        ...  \n",
            "319    3.1728\n",
            "320    3.1279\n",
            "321    4.0412\n",
            "322    3.2507\n",
            "323    3.1129\n",
            "Name: Energy(eV), Length: 324, dtype: float64\n"
          ]
        }
      ]
    },
    {
      "cell_type": "code",
      "source": [
        "#fitting SVR rbf kernel to dataset\n",
        "\n",
        "with open('out-SVR-MACCS-rbf.txt', 'w') as f:\n",
        "  for i in np.arange(0,200):\n",
        "    x_train, x_test, y_train, y_test = train_test_split(maccs_fingerprints_array, Abs_energies, test_size=0.20, random_state = i)\n",
        "    regressor = SVR(kernel='rbf')\n",
        "    regressor.fit(x_train, y_train)\n",
        "   # Evaluate the model on the testing dataset\n",
        "    y_pred = regressor.predict(x_test)\n",
        "    mean_squared_error(y_test, y_pred)\n",
        "    r2_score_value = r2_score(y_test, y_pred)\n",
        "    #r2_array = np.array(r2_score)\n",
        "    #print(r2_array, file=f)\n",
        "    print(r2_score_value, file=f)\n",
        "\n",
        "\n",
        "\n"
      ],
      "metadata": {
        "id": "EKkLUMnnVYm7"
      },
      "execution_count": 60,
      "outputs": []
    },
    {
      "cell_type": "code",
      "source": [
        "# Fitting SVR linear kernel to dataset\n",
        "\n",
        "with open('out-SVR-MACCS-linear.txt', 'w') as f:\n",
        "    for i in np.arange(0, 200):\n",
        "        # Splitting dataset into train and test data\n",
        "        x_train, x_test, y_train, y_test = train_test_split(maccs_fingerprints_array, Abs_energies, test_size=0.20, random_state=i)\n",
        "        regressor = SVR(kernel='linear')\n",
        "        regressor.fit(x_train, y_train)\n",
        "        # Evaluate the model on the testing dataset\n",
        "        y_pred = regressor.predict(x_test)\n",
        "        mean_squared_error(y_test, y_pred)\n",
        "        r2_score_value = r2_score(y_test, y_pred)\n",
        "        print(r2_score_value, file=f)"
      ],
      "metadata": {
        "id": "werVSpjuuI1m"
      },
      "execution_count": 61,
      "outputs": []
    },
    {
      "cell_type": "markdown",
      "source": [
        "# Avalon"
      ],
      "metadata": {
        "id": "eC5xPheWKR4A"
      }
    },
    {
      "cell_type": "code",
      "source": [
        "pip install rdkit-pypi avalon_framework"
      ],
      "metadata": {
        "colab": {
          "base_uri": "https://localhost:8080/"
        },
        "id": "hK7OQBkn1OBP",
        "outputId": "bf654f1f-ffd4-4355-e07c-15cdc7405a10"
      },
      "execution_count": 23,
      "outputs": [
        {
          "output_type": "stream",
          "name": "stdout",
          "text": [
            "Requirement already satisfied: rdkit-pypi in /usr/local/lib/python3.10/dist-packages (2022.9.5)\n",
            "Collecting avalon_framework\n",
            "  Downloading avalon_framework-1.8.2.tar.gz (3.1 kB)\n",
            "  Preparing metadata (setup.py) ... \u001b[?25l\u001b[?25hdone\n",
            "Requirement already satisfied: numpy in /usr/local/lib/python3.10/dist-packages (from rdkit-pypi) (1.25.2)\n",
            "Requirement already satisfied: Pillow in /usr/local/lib/python3.10/dist-packages (from rdkit-pypi) (9.4.0)\n",
            "Building wheels for collected packages: avalon_framework\n",
            "  Building wheel for avalon_framework (setup.py) ... \u001b[?25l\u001b[?25hdone\n",
            "  Created wheel for avalon_framework: filename=avalon_framework-1.8.2-py3-none-any.whl size=3863 sha256=74f05aee2ce677c7a0b6620fcb06bc91b20862a1c43068388a01da82414fd36c\n",
            "  Stored in directory: /root/.cache/pip/wheels/78/3f/5c/a65bfa8ce94f62739865cf30e5687272ee719961b4311d05e3\n",
            "Successfully built avalon_framework\n",
            "Installing collected packages: avalon_framework\n",
            "Successfully installed avalon_framework-1.8.2\n"
          ]
        }
      ]
    },
    {
      "cell_type": "code",
      "source": [
        "from rdkit import Chem\n",
        "from rdkit.Avalon import pyAvalonTools\n",
        "\n",
        "mols = [Chem.MolFromSmiles(smiles) for smiles in smiles_list]\n",
        "avalon_fingerprints = [pyAvalonTools.GetAvalonFP(mol) for mol in mols]\n",
        "avalon_fingerprints_array = [list(fp) for fp in avalon_fingerprints]"
      ],
      "metadata": {
        "id": "iWCJVR591Qjr"
      },
      "execution_count": 24,
      "outputs": []
    },
    {
      "cell_type": "code",
      "source": [
        "Abs_energies = df[\"Energy(eV)\"]\n",
        "\n",
        "features = np.column_stack((avalon_fingerprints, Abs_energies))"
      ],
      "metadata": {
        "id": "5gVuUiXz1c1v"
      },
      "execution_count": 25,
      "outputs": []
    },
    {
      "cell_type": "code",
      "source": [
        "#fitting SVR rbf kernel to dataset\n",
        "\n",
        "with open('out-SVR-Avalon-rbf.txt', 'w') as f:\n",
        "  for i in np.arange(0,200):\n",
        "    x_train, x_test, y_train, y_test = train_test_split(avalon_fingerprints_array, Abs_energies, test_size=0.20, random_state = i)\n",
        "    regressor = SVR(kernel='rbf')\n",
        "    regressor.fit(x_train, y_train)\n",
        "  # Evaluate the model on the testing dataset\n",
        "    y_pred = regressor.predict(x_test)\n",
        "    mean_squared_error(y_test, y_pred)\n",
        "    r2_score_value = r2_score(y_test, y_pred)\n",
        "    print(r2_score_value, file=f)"
      ],
      "metadata": {
        "id": "nwjtqk7W13tu"
      },
      "execution_count": 26,
      "outputs": []
    },
    {
      "cell_type": "code",
      "source": [
        "#fitting SVR linear kernel to dataset\n",
        "\n",
        "with open('out-SVR-Avalon-linear.txt', 'w') as f:\n",
        "  for i in np.arange(0,200):\n",
        "    x_train, x_test, y_train, y_test = train_test_split(avalon_fingerprints_array, Abs_energies, test_size=0.20, random_state = i)\n",
        "    regressor = SVR(kernel='linear')\n",
        "    regressor.fit(x_train, y_train)\n",
        "  # Evaluate the model on the testing dataset\n",
        "    y_pred = regressor.predict(x_test)\n",
        "    mean_squared_error(y_test, y_pred)\n",
        "    r2_score_value = r2_score(y_test, y_pred)\n",
        "    print(r2_score_value, file=f)"
      ],
      "metadata": {
        "id": "1jgg9N-K2EFX"
      },
      "execution_count": 27,
      "outputs": []
    },
    {
      "cell_type": "markdown",
      "source": [
        "# Daylight"
      ],
      "metadata": {
        "id": "Hax7U4CzSA17"
      }
    },
    {
      "cell_type": "code",
      "source": [
        "mols = [Chem.MolFromSmiles(smiles) for smiles in smiles_list]\n",
        "daylight_fingerprints = [Chem.RDKFingerprint(mol) for mol in mols]\n",
        "daylight_fingerprints_array = [list(fp) for fp in daylight_fingerprints]"
      ],
      "metadata": {
        "id": "prYlwNy1UlIy"
      },
      "execution_count": 41,
      "outputs": []
    },
    {
      "cell_type": "code",
      "source": [
        "Abs_energies = df[\"Energy(eV)\"]\n",
        "\n",
        "features = np.column_stack((daylight_fingerprints, Abs_energies))"
      ],
      "metadata": {
        "id": "MtHHR7fKUncR"
      },
      "execution_count": 43,
      "outputs": []
    },
    {
      "cell_type": "code",
      "source": [
        "#fitting SVR rbf kernel to dataset\n",
        "\n",
        "with open('out-SVR-daylight-rbf.txt', 'w') as f:\n",
        "  for i in np.arange(0,200):\n",
        "    x_train, x_test, y_train, y_test = train_test_split(daylight_fingerprints_array, Abs_energies, test_size=0.20, random_state = i)\n",
        "    regressor = SVR(kernel='rbf')\n",
        "    regressor.fit(x_train, y_train)\n",
        "  # Evaluate the model on the testing dataset\n",
        "    y_pred = regressor.predict(x_test)\n",
        "    mean_squared_error(y_test, y_pred)\n",
        "    r2_score_value = r2_score(y_test, y_pred)\n",
        "    print(r2_score_value, file=f)"
      ],
      "metadata": {
        "id": "0POw0nYyUvc6"
      },
      "execution_count": 44,
      "outputs": []
    },
    {
      "cell_type": "code",
      "source": [
        "#fitting SVR linear kernel to dataset\n",
        "\n",
        "with open('out-SVR-daylight-linear.txt', 'w') as f:\n",
        "  for i in np.arange(0,200):\n",
        "    x_train, x_test, y_train, y_test = train_test_split(daylight_fingerprints_array, Abs_energies, test_size=0.20, random_state = i)\n",
        "    regressor = SVR(kernel='linear')\n",
        "    regressor.fit(x_train, y_train)\n",
        "  # Evaluate the model on the testing dataset\n",
        "    y_pred = regressor.predict(x_test)\n",
        "    mean_squared_error(y_test, y_pred)\n",
        "    r2_score_value = r2_score(y_test, y_pred)\n",
        "    print(r2_score_value, file=f)"
      ],
      "metadata": {
        "id": "8ZW3zGPbWo9b"
      },
      "execution_count": 45,
      "outputs": []
    },
    {
      "cell_type": "markdown",
      "source": [
        "# Atom Pairs"
      ],
      "metadata": {
        "id": "oXUHS0j9WtkP"
      }
    },
    {
      "cell_type": "code",
      "source": [
        "mols = [Chem.MolFromSmiles(smiles) for smiles in smiles_list]\n",
        "atom_pairs_fingerprints = [rdMolDescriptors.GetHashedAtomPairFingerprintAsBitVect(mol) for mol in mols]\n",
        "atompairs_fingerprints_array = [list(fp) for fp in atom_pairs_fingerprints ]"
      ],
      "metadata": {
        "id": "s82_MFi4Wv9l"
      },
      "execution_count": 46,
      "outputs": []
    },
    {
      "cell_type": "code",
      "source": [
        "Abs_energies = df[\"Energy(eV)\"]\n",
        "\n",
        "features = np.column_stack((atom_pairs_fingerprints, Abs_energies))"
      ],
      "metadata": {
        "id": "Vzz6nMLmW2c0"
      },
      "execution_count": 47,
      "outputs": []
    },
    {
      "cell_type": "code",
      "source": [
        "#fitting SVR rbf kernel to dataset\n",
        "\n",
        "with open('out-SVR-atompairs-rbf.txt', 'w') as f:\n",
        "  for i in np.arange(0,200):\n",
        "    x_train, x_test, y_train, y_test = train_test_split(atompairs_fingerprints_array, Abs_energies, test_size=0.20, random_state = i)\n",
        "    regressor = SVR(kernel='rbf')\n",
        "    regressor.fit(x_train, y_train)\n",
        "  # Evaluate the model on the testing dataset\n",
        "    y_pred = regressor.predict(x_test)\n",
        "    mean_squared_error(y_test, y_pred)\n",
        "    r2_score_value = r2_score(y_test, y_pred)\n",
        "    print(r2_score_value, file=f)"
      ],
      "metadata": {
        "id": "sjNoupDTW9tF"
      },
      "execution_count": 48,
      "outputs": []
    },
    {
      "cell_type": "code",
      "source": [
        "#fitting SVR linear kernel to dataset\n",
        "\n",
        "with open('out-SVR-atompairs-linear.txt', 'w') as f:\n",
        "  for i in np.arange(0,200):\n",
        "    x_train, x_test, y_train, y_test = train_test_split(atompairs_fingerprints_array, Abs_energies, test_size=0.20, random_state = i)\n",
        "    regressor = SVR(kernel='linear')\n",
        "    regressor.fit(x_train, y_train)\n",
        "  # Evaluate the model on the testing dataset\n",
        "    y_pred = regressor.predict(x_test)\n",
        "    mean_squared_error(y_test, y_pred)\n",
        "    r2_score_value = r2_score(y_test, y_pred)\n",
        "    print(r2_score_value, file=f)"
      ],
      "metadata": {
        "id": "LJQ31f0vXC86"
      },
      "execution_count": 49,
      "outputs": []
    },
    {
      "cell_type": "markdown",
      "source": [
        "# Topological torsion"
      ],
      "metadata": {
        "id": "vfycyJMvXILV"
      }
    },
    {
      "cell_type": "code",
      "source": [
        "mols = [Chem.MolFromSmiles(smiles) for smiles in smiles_list]\n",
        "torsion_fingerprints = [rdMolDescriptors.GetHashedTopologicalTorsionFingerprintAsBitVect(mol) for mol in mols]\n",
        "torsion_fingerprints_array = [list(fp) for fp in torsion_fingerprints ]"
      ],
      "metadata": {
        "id": "ubw2aEp2XLb2"
      },
      "execution_count": 50,
      "outputs": []
    },
    {
      "cell_type": "code",
      "source": [
        "Abs_energies = df[\"Energy(eV)\"]\n",
        "\n",
        "features = np.column_stack((torsion_fingerprints, Abs_energies))"
      ],
      "metadata": {
        "id": "hT6PMPbsXMBZ"
      },
      "execution_count": 53,
      "outputs": []
    },
    {
      "cell_type": "code",
      "source": [
        "#fitting SVR rbf kernel to dataset\n",
        "\n",
        "with open('out-SVR-torsion-rbf.txt', 'w') as f:\n",
        "  for i in np.arange(0,200):\n",
        "    x_train, x_test, y_train, y_test = train_test_split(torsion_fingerprints_array, Abs_energies, test_size=0.20, random_state = i)\n",
        "    regressor = SVR(kernel='rbf')\n",
        "    regressor.fit(x_train, y_train)\n",
        "  # Evaluate the model on the testing dataset\n",
        "    y_pred = regressor.predict(x_test)\n",
        "    mean_squared_error(y_test, y_pred)\n",
        "    r2_score_value = r2_score(y_test, y_pred)\n",
        "    print(r2_score_value, file=f)"
      ],
      "metadata": {
        "id": "TFLji0REXMHs"
      },
      "execution_count": 54,
      "outputs": []
    },
    {
      "cell_type": "code",
      "source": [
        "#fitting SVR linear kernel to dataset\n",
        "\n",
        "with open('out-SVR-torsion-linear.txt', 'w') as f:\n",
        "  for i in np.arange(0,200):\n",
        "    x_train, x_test, y_train, y_test = train_test_split(torsion_fingerprints_array, Abs_energies, test_size=0.20, random_state = i)\n",
        "    regressor = SVR(kernel='linear')\n",
        "    regressor.fit(x_train, y_train)\n",
        "  # Evaluate the model on the testing dataset\n",
        "    y_pred = regressor.predict(x_test)\n",
        "    mean_squared_error(y_test, y_pred)\n",
        "    r2_score_value = r2_score(y_test, y_pred)\n",
        "    print(r2_score_value, file=f)"
      ],
      "metadata": {
        "id": "gkaTEEXzXYzf"
      },
      "execution_count": 55,
      "outputs": []
    },
    {
      "cell_type": "code",
      "source": [
        "#checking the correlation between predicted values and true values\n",
        "\n",
        "plt.scatter(y_test, y_pred, c='crimson')\n",
        "plt.yscale('log')\n",
        "plt.xscale('log')\n",
        "\n",
        "p1 = max(max(y_pred), max(y_test))\n",
        "p2 = min(min(y_pred), min(y_test))\n",
        "plt.plot([p1, p2], [p1, p2], 'b-')\n",
        "plt.xlabel('True Values', fontsize=15)\n",
        "plt.ylabel('Predictions', fontsize=15)\n",
        "plt.axis('equal')\n",
        "plt.show()"
      ],
      "metadata": {
        "colab": {
          "base_uri": "https://localhost:8080/",
          "height": 458
        },
        "id": "SWja6EAjXji1",
        "outputId": "a156994d-01f9-47ac-99d3-c1c96c2b8240"
      },
      "execution_count": 57,
      "outputs": [
        {
          "output_type": "display_data",
          "data": {
            "text/plain": [
              "<Figure size 640x480 with 1 Axes>"
            ],
            "image/png": "[encoded data removed]"
          },
          "metadata": {}
        }
      ]
    }
  ]
}